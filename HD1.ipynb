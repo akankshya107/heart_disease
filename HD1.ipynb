{
  "nbformat": 4,
  "nbformat_minor": 0,
  "metadata": {
    "colab": {
      "name": "HD1.ipynb",
      "provenance": [],
      "collapsed_sections": []
    },
    "kernelspec": {
      "name": "python3",
      "display_name": "Python 3"
    },
    "accelerator": "GPU"
  },
  "cells": [
    {
      "cell_type": "code",
      "metadata": {
        "id": "P-rzppVLc5Fc",
        "colab_type": "code",
        "outputId": "ed3ccd14-dfd1-49f5-8bba-25cf75d0c189",
        "colab": {
          "base_uri": "https://localhost:8080/",
          "height": 54
        }
      },
      "source": [
        "from google.colab import drive\n",
        "drive.mount('/content/drive')"
      ],
      "execution_count": 3,
      "outputs": [
        {
          "output_type": "stream",
          "text": [
            "Drive already mounted at /content/drive; to attempt to forcibly remount, call drive.mount(\"/content/drive\", force_remount=True).\n"
          ],
          "name": "stdout"
        }
      ]
    },
    {
      "cell_type": "code",
      "metadata": {
        "id": "D7IXM3Wmdh91",
        "colab_type": "code",
        "outputId": "db9a18e3-fc54-49ca-b484-251fb67c9c6c",
        "colab": {
          "base_uri": "https://localhost:8080/",
          "height": 34
        }
      },
      "source": [
        "import pandas as pd\n",
        "import numpy as np\n",
        "from sklearn import preprocessing\n",
        "from sklearn.decomposition import PCA\n",
        "from sklearn import tree\n",
        "from sklearn.model_selection import KFold\n",
        "from sklearn.ensemble import VotingClassifier\n",
        "from sklearn.ensemble import RandomForestClassifier\n",
        "from sklearn.linear_model import LogisticRegression\n",
        "from sklearn.naive_bayes import GaussianNB\n",
        "from sklearn.ensemble import AdaBoostClassifier\n",
        "from sklearn.model_selection import cross_val_score\n",
        "from sklearn.svm import SVC\n",
        "from sklearn.model_selection import train_test_split\n",
        "from sklearn.feature_selection import SelectKBest\n",
        "from sklearn.feature_selection import chi2\n",
        "from keras import Sequential\n",
        "from keras.layers import Dense\n",
        "import matplotlib.pyplot as plt\n",
        "%matplotlib inline"
      ],
      "execution_count": 4,
      "outputs": [
        {
          "output_type": "stream",
          "text": [
            "Using TensorFlow backend.\n"
          ],
          "name": "stderr"
        }
      ]
    },
    {
      "cell_type": "code",
      "metadata": {
        "id": "zOyBkUgsePUl",
        "colab_type": "code",
        "outputId": "f916c659-f246-4e66-ea71-258ecb779b99",
        "colab": {
          "base_uri": "https://localhost:8080/",
          "height": 278
        }
      },
      "source": [
        "train_data = pd.read_csv('/content/drive/My Drive/DS/heart_disease/train_values.csv')\n",
        "train_labels = pd.read_csv('/content/drive/My Drive/DS/heart_disease/train_labels.csv')\n",
        "test_data = pd.read_csv('/content/drive/My Drive/DS/heart_disease/test_values.csv')\n",
        "print(train_data.dtypes)"
      ],
      "execution_count": 5,
      "outputs": [
        {
          "output_type": "stream",
          "text": [
            "patient_id                               object\n",
            "slope_of_peak_exercise_st_segment         int64\n",
            "thal                                     object\n",
            "resting_blood_pressure                    int64\n",
            "chest_pain_type                           int64\n",
            "num_major_vessels                         int64\n",
            "fasting_blood_sugar_gt_120_mg_per_dl      int64\n",
            "resting_ekg_results                       int64\n",
            "serum_cholesterol_mg_per_dl               int64\n",
            "oldpeak_eq_st_depression                float64\n",
            "sex                                       int64\n",
            "age                                       int64\n",
            "max_heart_rate_achieved                   int64\n",
            "exercise_induced_angina                   int64\n",
            "dtype: object\n"
          ],
          "name": "stdout"
        }
      ]
    },
    {
      "cell_type": "code",
      "metadata": {
        "id": "PgR1qbvPmRVw",
        "colab_type": "code",
        "colab": {}
      },
      "source": [
        "index = train_data['patient_id']\n",
        "train_data = train_data.drop(columns=['patient_id'])"
      ],
      "execution_count": 0,
      "outputs": []
    },
    {
      "cell_type": "code",
      "metadata": {
        "id": "LyIctC8Gp_M_",
        "colab_type": "code",
        "outputId": "95ec1ce6-520f-44a1-f725-8a25050afb8c",
        "colab": {
          "base_uri": "https://localhost:8080/",
          "height": 260
        }
      },
      "source": [
        "train_data['thal'] = train_data['thal'].astype('category')\n",
        "train_data.dtypes"
      ],
      "execution_count": 7,
      "outputs": [
        {
          "output_type": "execute_result",
          "data": {
            "text/plain": [
              "slope_of_peak_exercise_st_segment          int64\n",
              "thal                                    category\n",
              "resting_blood_pressure                     int64\n",
              "chest_pain_type                            int64\n",
              "num_major_vessels                          int64\n",
              "fasting_blood_sugar_gt_120_mg_per_dl       int64\n",
              "resting_ekg_results                        int64\n",
              "serum_cholesterol_mg_per_dl                int64\n",
              "oldpeak_eq_st_depression                 float64\n",
              "sex                                        int64\n",
              "age                                        int64\n",
              "max_heart_rate_achieved                    int64\n",
              "exercise_induced_angina                    int64\n",
              "dtype: object"
            ]
          },
          "metadata": {
            "tags": []
          },
          "execution_count": 7
        }
      ]
    },
    {
      "cell_type": "code",
      "metadata": {
        "id": "uDz1hgRBrPls",
        "colab_type": "code",
        "outputId": "17fcc8c5-6460-4051-fd08-514641a0e71e",
        "colab": {
          "base_uri": "https://localhost:8080/",
          "height": 260
        }
      },
      "source": [
        "train_data['thal_cat'] = train_data['thal'].cat.codes\n",
        "train_data = train_data.drop(columns=['thal'])\n",
        "train_data.dtypes"
      ],
      "execution_count": 8,
      "outputs": [
        {
          "output_type": "execute_result",
          "data": {
            "text/plain": [
              "slope_of_peak_exercise_st_segment         int64\n",
              "resting_blood_pressure                    int64\n",
              "chest_pain_type                           int64\n",
              "num_major_vessels                         int64\n",
              "fasting_blood_sugar_gt_120_mg_per_dl      int64\n",
              "resting_ekg_results                       int64\n",
              "serum_cholesterol_mg_per_dl               int64\n",
              "oldpeak_eq_st_depression                float64\n",
              "sex                                       int64\n",
              "age                                       int64\n",
              "max_heart_rate_achieved                   int64\n",
              "exercise_induced_angina                   int64\n",
              "thal_cat                                   int8\n",
              "dtype: object"
            ]
          },
          "metadata": {
            "tags": []
          },
          "execution_count": 8
        }
      ]
    },
    {
      "cell_type": "code",
      "metadata": {
        "id": "jAS3c2DXsdCo",
        "colab_type": "code",
        "colab": {}
      },
      "source": [
        "train_labels = train_labels.drop(columns=['patient_id'])"
      ],
      "execution_count": 0,
      "outputs": []
    },
    {
      "cell_type": "code",
      "metadata": {
        "id": "QfHSxK1UwYsv",
        "colab_type": "code",
        "outputId": "06fea198-e2f5-4f8c-bad8-7d6f2c483b02",
        "colab": {
          "base_uri": "https://localhost:8080/",
          "height": 1000
        }
      },
      "source": [
        "# plt.figure()\n",
        "# train_data.iloc[:, 1].plot(kind='hist')\n",
        "# print(train_data.columns[1])\n",
        "\n",
        "cols = ['serum_cholesterol_mg_per_dl', 'resting_blood_pressure', 'oldpeak_eq_st_depression']\n",
        "\n",
        "train_data['log_serum_cholesterol_mg_per_dl'] = np.log(1 + train_data.serum_cholesterol_mg_per_dl)\n",
        "train_data['log_resting_blood_pressure'] = np.log(1 + train_data.resting_blood_pressure)\n",
        "train_data['log_oldpeak_eq_st_depression'] = np.log(1 + train_data.oldpeak_eq_st_depression)\n",
        "\n",
        "train_data.drop(columns=cols)"
      ],
      "execution_count": 21,
      "outputs": [
        {
          "output_type": "execute_result",
          "data": {
            "text/html": [
              "<div>\n",
              "<style scoped>\n",
              "    .dataframe tbody tr th:only-of-type {\n",
              "        vertical-align: middle;\n",
              "    }\n",
              "\n",
              "    .dataframe tbody tr th {\n",
              "        vertical-align: top;\n",
              "    }\n",
              "\n",
              "    .dataframe thead th {\n",
              "        text-align: right;\n",
              "    }\n",
              "</style>\n",
              "<table border=\"1\" class=\"dataframe\">\n",
              "  <thead>\n",
              "    <tr style=\"text-align: right;\">\n",
              "      <th></th>\n",
              "      <th>slope_of_peak_exercise_st_segment</th>\n",
              "      <th>chest_pain_type</th>\n",
              "      <th>num_major_vessels</th>\n",
              "      <th>fasting_blood_sugar_gt_120_mg_per_dl</th>\n",
              "      <th>resting_ekg_results</th>\n",
              "      <th>sex</th>\n",
              "      <th>age</th>\n",
              "      <th>max_heart_rate_achieved</th>\n",
              "      <th>exercise_induced_angina</th>\n",
              "      <th>thal_cat</th>\n",
              "      <th>log_serum_cholesterol_mg_per_dl</th>\n",
              "      <th>log_resting_blood_pressure</th>\n",
              "      <th>log_oldpeak_eq_st_depression</th>\n",
              "    </tr>\n",
              "  </thead>\n",
              "  <tbody>\n",
              "    <tr>\n",
              "      <th>0</th>\n",
              "      <td>1</td>\n",
              "      <td>2</td>\n",
              "      <td>0</td>\n",
              "      <td>0</td>\n",
              "      <td>2</td>\n",
              "      <td>1</td>\n",
              "      <td>45</td>\n",
              "      <td>170</td>\n",
              "      <td>0</td>\n",
              "      <td>1</td>\n",
              "      <td>5.733341</td>\n",
              "      <td>4.859812</td>\n",
              "      <td>0.000000</td>\n",
              "    </tr>\n",
              "    <tr>\n",
              "      <th>1</th>\n",
              "      <td>2</td>\n",
              "      <td>3</td>\n",
              "      <td>0</td>\n",
              "      <td>0</td>\n",
              "      <td>0</td>\n",
              "      <td>0</td>\n",
              "      <td>54</td>\n",
              "      <td>158</td>\n",
              "      <td>0</td>\n",
              "      <td>1</td>\n",
              "      <td>5.370638</td>\n",
              "      <td>4.709530</td>\n",
              "      <td>0.955511</td>\n",
              "    </tr>\n",
              "    <tr>\n",
              "      <th>2</th>\n",
              "      <td>1</td>\n",
              "      <td>4</td>\n",
              "      <td>3</td>\n",
              "      <td>0</td>\n",
              "      <td>2</td>\n",
              "      <td>1</td>\n",
              "      <td>77</td>\n",
              "      <td>162</td>\n",
              "      <td>1</td>\n",
              "      <td>1</td>\n",
              "      <td>5.720312</td>\n",
              "      <td>4.836282</td>\n",
              "      <td>0.000000</td>\n",
              "    </tr>\n",
              "    <tr>\n",
              "      <th>3</th>\n",
              "      <td>1</td>\n",
              "      <td>4</td>\n",
              "      <td>0</td>\n",
              "      <td>0</td>\n",
              "      <td>0</td>\n",
              "      <td>1</td>\n",
              "      <td>40</td>\n",
              "      <td>181</td>\n",
              "      <td>0</td>\n",
              "      <td>2</td>\n",
              "      <td>5.411646</td>\n",
              "      <td>5.030438</td>\n",
              "      <td>0.000000</td>\n",
              "    </tr>\n",
              "    <tr>\n",
              "      <th>4</th>\n",
              "      <td>3</td>\n",
              "      <td>1</td>\n",
              "      <td>0</td>\n",
              "      <td>0</td>\n",
              "      <td>2</td>\n",
              "      <td>1</td>\n",
              "      <td>59</td>\n",
              "      <td>145</td>\n",
              "      <td>0</td>\n",
              "      <td>2</td>\n",
              "      <td>5.602119</td>\n",
              "      <td>5.187386</td>\n",
              "      <td>1.648659</td>\n",
              "    </tr>\n",
              "    <tr>\n",
              "      <th>5</th>\n",
              "      <td>1</td>\n",
              "      <td>3</td>\n",
              "      <td>0</td>\n",
              "      <td>0</td>\n",
              "      <td>0</td>\n",
              "      <td>1</td>\n",
              "      <td>42</td>\n",
              "      <td>150</td>\n",
              "      <td>0</td>\n",
              "      <td>1</td>\n",
              "      <td>5.198497</td>\n",
              "      <td>4.875197</td>\n",
              "      <td>0.000000</td>\n",
              "    </tr>\n",
              "    <tr>\n",
              "      <th>6</th>\n",
              "      <td>2</td>\n",
              "      <td>4</td>\n",
              "      <td>2</td>\n",
              "      <td>0</td>\n",
              "      <td>2</td>\n",
              "      <td>0</td>\n",
              "      <td>60</td>\n",
              "      <td>157</td>\n",
              "      <td>0</td>\n",
              "      <td>2</td>\n",
              "      <td>5.556828</td>\n",
              "      <td>5.017280</td>\n",
              "      <td>1.280934</td>\n",
              "    </tr>\n",
              "    <tr>\n",
              "      <th>7</th>\n",
              "      <td>2</td>\n",
              "      <td>4</td>\n",
              "      <td>1</td>\n",
              "      <td>0</td>\n",
              "      <td>2</td>\n",
              "      <td>1</td>\n",
              "      <td>57</td>\n",
              "      <td>112</td>\n",
              "      <td>1</td>\n",
              "      <td>0</td>\n",
              "      <td>5.624018</td>\n",
              "      <td>5.017280</td>\n",
              "      <td>0.470004</td>\n",
              "    </tr>\n",
              "    <tr>\n",
              "      <th>8</th>\n",
              "      <td>3</td>\n",
              "      <td>4</td>\n",
              "      <td>0</td>\n",
              "      <td>0</td>\n",
              "      <td>2</td>\n",
              "      <td>1</td>\n",
              "      <td>59</td>\n",
              "      <td>140</td>\n",
              "      <td>1</td>\n",
              "      <td>2</td>\n",
              "      <td>5.789960</td>\n",
              "      <td>5.141664</td>\n",
              "      <td>1.481605</td>\n",
              "    </tr>\n",
              "    <tr>\n",
              "      <th>9</th>\n",
              "      <td>2</td>\n",
              "      <td>3</td>\n",
              "      <td>0</td>\n",
              "      <td>0</td>\n",
              "      <td>0</td>\n",
              "      <td>0</td>\n",
              "      <td>50</td>\n",
              "      <td>158</td>\n",
              "      <td>0</td>\n",
              "      <td>1</td>\n",
              "      <td>5.393628</td>\n",
              "      <td>4.795791</td>\n",
              "      <td>0.955511</td>\n",
              "    </tr>\n",
              "    <tr>\n",
              "      <th>10</th>\n",
              "      <td>2</td>\n",
              "      <td>4</td>\n",
              "      <td>0</td>\n",
              "      <td>0</td>\n",
              "      <td>2</td>\n",
              "      <td>1</td>\n",
              "      <td>66</td>\n",
              "      <td>151</td>\n",
              "      <td>0</td>\n",
              "      <td>1</td>\n",
              "      <td>5.713733</td>\n",
              "      <td>4.795791</td>\n",
              "      <td>0.336472</td>\n",
              "    </tr>\n",
              "    <tr>\n",
              "      <th>11</th>\n",
              "      <td>1</td>\n",
              "      <td>4</td>\n",
              "      <td>0</td>\n",
              "      <td>0</td>\n",
              "      <td>0</td>\n",
              "      <td>1</td>\n",
              "      <td>42</td>\n",
              "      <td>178</td>\n",
              "      <td>0</td>\n",
              "      <td>1</td>\n",
              "      <td>5.424950</td>\n",
              "      <td>4.948760</td>\n",
              "      <td>0.000000</td>\n",
              "    </tr>\n",
              "    <tr>\n",
              "      <th>12</th>\n",
              "      <td>1</td>\n",
              "      <td>3</td>\n",
              "      <td>0</td>\n",
              "      <td>0</td>\n",
              "      <td>0</td>\n",
              "      <td>1</td>\n",
              "      <td>64</td>\n",
              "      <td>158</td>\n",
              "      <td>0</td>\n",
              "      <td>1</td>\n",
              "      <td>5.817111</td>\n",
              "      <td>4.948760</td>\n",
              "      <td>0.000000</td>\n",
              "    </tr>\n",
              "    <tr>\n",
              "      <th>13</th>\n",
              "      <td>2</td>\n",
              "      <td>4</td>\n",
              "      <td>0</td>\n",
              "      <td>0</td>\n",
              "      <td>2</td>\n",
              "      <td>0</td>\n",
              "      <td>45</td>\n",
              "      <td>152</td>\n",
              "      <td>1</td>\n",
              "      <td>1</td>\n",
              "      <td>5.468060</td>\n",
              "      <td>4.934474</td>\n",
              "      <td>0.182322</td>\n",
              "    </tr>\n",
              "    <tr>\n",
              "      <th>14</th>\n",
              "      <td>2</td>\n",
              "      <td>1</td>\n",
              "      <td>0</td>\n",
              "      <td>0</td>\n",
              "      <td>0</td>\n",
              "      <td>1</td>\n",
              "      <td>38</td>\n",
              "      <td>182</td>\n",
              "      <td>1</td>\n",
              "      <td>2</td>\n",
              "      <td>5.446737</td>\n",
              "      <td>4.795791</td>\n",
              "      <td>1.568616</td>\n",
              "    </tr>\n",
              "    <tr>\n",
              "      <th>15</th>\n",
              "      <td>2</td>\n",
              "      <td>4</td>\n",
              "      <td>0</td>\n",
              "      <td>0</td>\n",
              "      <td>2</td>\n",
              "      <td>1</td>\n",
              "      <td>50</td>\n",
              "      <td>126</td>\n",
              "      <td>1</td>\n",
              "      <td>2</td>\n",
              "      <td>5.303305</td>\n",
              "      <td>4.976734</td>\n",
              "      <td>0.641854</td>\n",
              "    </tr>\n",
              "    <tr>\n",
              "      <th>16</th>\n",
              "      <td>2</td>\n",
              "      <td>2</td>\n",
              "      <td>0</td>\n",
              "      <td>0</td>\n",
              "      <td>2</td>\n",
              "      <td>0</td>\n",
              "      <td>45</td>\n",
              "      <td>175</td>\n",
              "      <td>0</td>\n",
              "      <td>1</td>\n",
              "      <td>5.459586</td>\n",
              "      <td>4.875197</td>\n",
              "      <td>0.470004</td>\n",
              "    </tr>\n",
              "    <tr>\n",
              "      <th>17</th>\n",
              "      <td>1</td>\n",
              "      <td>4</td>\n",
              "      <td>1</td>\n",
              "      <td>0</td>\n",
              "      <td>0</td>\n",
              "      <td>1</td>\n",
              "      <td>60</td>\n",
              "      <td>144</td>\n",
              "      <td>1</td>\n",
              "      <td>2</td>\n",
              "      <td>5.537334</td>\n",
              "      <td>4.875197</td>\n",
              "      <td>0.875469</td>\n",
              "    </tr>\n",
              "    <tr>\n",
              "      <th>18</th>\n",
              "      <td>1</td>\n",
              "      <td>2</td>\n",
              "      <td>0</td>\n",
              "      <td>0</td>\n",
              "      <td>2</td>\n",
              "      <td>1</td>\n",
              "      <td>29</td>\n",
              "      <td>202</td>\n",
              "      <td>0</td>\n",
              "      <td>1</td>\n",
              "      <td>5.323010</td>\n",
              "      <td>4.875197</td>\n",
              "      <td>0.000000</td>\n",
              "    </tr>\n",
              "    <tr>\n",
              "      <th>19</th>\n",
              "      <td>1</td>\n",
              "      <td>2</td>\n",
              "      <td>2</td>\n",
              "      <td>1</td>\n",
              "      <td>2</td>\n",
              "      <td>0</td>\n",
              "      <td>58</td>\n",
              "      <td>152</td>\n",
              "      <td>0</td>\n",
              "      <td>1</td>\n",
              "      <td>5.768321</td>\n",
              "      <td>4.919981</td>\n",
              "      <td>0.000000</td>\n",
              "    </tr>\n",
              "    <tr>\n",
              "      <th>20</th>\n",
              "      <td>1</td>\n",
              "      <td>2</td>\n",
              "      <td>2</td>\n",
              "      <td>0</td>\n",
              "      <td>0</td>\n",
              "      <td>0</td>\n",
              "      <td>71</td>\n",
              "      <td>162</td>\n",
              "      <td>0</td>\n",
              "      <td>1</td>\n",
              "      <td>5.713733</td>\n",
              "      <td>5.081404</td>\n",
              "      <td>0.336472</td>\n",
              "    </tr>\n",
              "    <tr>\n",
              "      <th>21</th>\n",
              "      <td>1</td>\n",
              "      <td>4</td>\n",
              "      <td>3</td>\n",
              "      <td>1</td>\n",
              "      <td>0</td>\n",
              "      <td>1</td>\n",
              "      <td>52</td>\n",
              "      <td>147</td>\n",
              "      <td>0</td>\n",
              "      <td>2</td>\n",
              "      <td>5.455321</td>\n",
              "      <td>4.691348</td>\n",
              "      <td>0.095310</td>\n",
              "    </tr>\n",
              "    <tr>\n",
              "      <th>22</th>\n",
              "      <td>1</td>\n",
              "      <td>4</td>\n",
              "      <td>2</td>\n",
              "      <td>0</td>\n",
              "      <td>0</td>\n",
              "      <td>0</td>\n",
              "      <td>67</td>\n",
              "      <td>142</td>\n",
              "      <td>0</td>\n",
              "      <td>1</td>\n",
              "      <td>5.411646</td>\n",
              "      <td>4.672829</td>\n",
              "      <td>0.262364</td>\n",
              "    </tr>\n",
              "    <tr>\n",
              "      <th>23</th>\n",
              "      <td>1</td>\n",
              "      <td>4</td>\n",
              "      <td>0</td>\n",
              "      <td>0</td>\n",
              "      <td>2</td>\n",
              "      <td>1</td>\n",
              "      <td>66</td>\n",
              "      <td>138</td>\n",
              "      <td>0</td>\n",
              "      <td>0</td>\n",
              "      <td>5.433722</td>\n",
              "      <td>5.081404</td>\n",
              "      <td>1.193922</td>\n",
              "    </tr>\n",
              "    <tr>\n",
              "      <th>24</th>\n",
              "      <td>1</td>\n",
              "      <td>2</td>\n",
              "      <td>0</td>\n",
              "      <td>0</td>\n",
              "      <td>2</td>\n",
              "      <td>1</td>\n",
              "      <td>70</td>\n",
              "      <td>143</td>\n",
              "      <td>0</td>\n",
              "      <td>1</td>\n",
              "      <td>5.505332</td>\n",
              "      <td>5.056246</td>\n",
              "      <td>0.000000</td>\n",
              "    </tr>\n",
              "    <tr>\n",
              "      <th>25</th>\n",
              "      <td>2</td>\n",
              "      <td>3</td>\n",
              "      <td>0</td>\n",
              "      <td>0</td>\n",
              "      <td>2</td>\n",
              "      <td>0</td>\n",
              "      <td>68</td>\n",
              "      <td>115</td>\n",
              "      <td>0</td>\n",
              "      <td>1</td>\n",
              "      <td>5.356586</td>\n",
              "      <td>4.795791</td>\n",
              "      <td>0.916291</td>\n",
              "    </tr>\n",
              "    <tr>\n",
              "      <th>26</th>\n",
              "      <td>1</td>\n",
              "      <td>4</td>\n",
              "      <td>1</td>\n",
              "      <td>0</td>\n",
              "      <td>2</td>\n",
              "      <td>0</td>\n",
              "      <td>57</td>\n",
              "      <td>159</td>\n",
              "      <td>0</td>\n",
              "      <td>1</td>\n",
              "      <td>5.717028</td>\n",
              "      <td>4.859812</td>\n",
              "      <td>0.000000</td>\n",
              "    </tr>\n",
              "    <tr>\n",
              "      <th>27</th>\n",
              "      <td>1</td>\n",
              "      <td>2</td>\n",
              "      <td>0</td>\n",
              "      <td>1</td>\n",
              "      <td>0</td>\n",
              "      <td>1</td>\n",
              "      <td>52</td>\n",
              "      <td>184</td>\n",
              "      <td>0</td>\n",
              "      <td>1</td>\n",
              "      <td>5.327876</td>\n",
              "      <td>4.859812</td>\n",
              "      <td>0.000000</td>\n",
              "    </tr>\n",
              "    <tr>\n",
              "      <th>28</th>\n",
              "      <td>2</td>\n",
              "      <td>3</td>\n",
              "      <td>0</td>\n",
              "      <td>0</td>\n",
              "      <td>2</td>\n",
              "      <td>1</td>\n",
              "      <td>60</td>\n",
              "      <td>155</td>\n",
              "      <td>0</td>\n",
              "      <td>1</td>\n",
              "      <td>5.225747</td>\n",
              "      <td>4.948760</td>\n",
              "      <td>1.386294</td>\n",
              "    </tr>\n",
              "    <tr>\n",
              "      <th>29</th>\n",
              "      <td>1</td>\n",
              "      <td>3</td>\n",
              "      <td>0</td>\n",
              "      <td>0</td>\n",
              "      <td>0</td>\n",
              "      <td>1</td>\n",
              "      <td>51</td>\n",
              "      <td>123</td>\n",
              "      <td>0</td>\n",
              "      <td>1</td>\n",
              "      <td>5.170484</td>\n",
              "      <td>4.709530</td>\n",
              "      <td>0.470004</td>\n",
              "    </tr>\n",
              "    <tr>\n",
              "      <th>...</th>\n",
              "      <td>...</td>\n",
              "      <td>...</td>\n",
              "      <td>...</td>\n",
              "      <td>...</td>\n",
              "      <td>...</td>\n",
              "      <td>...</td>\n",
              "      <td>...</td>\n",
              "      <td>...</td>\n",
              "      <td>...</td>\n",
              "      <td>...</td>\n",
              "      <td>...</td>\n",
              "      <td>...</td>\n",
              "      <td>...</td>\n",
              "    </tr>\n",
              "    <tr>\n",
              "      <th>150</th>\n",
              "      <td>1</td>\n",
              "      <td>2</td>\n",
              "      <td>0</td>\n",
              "      <td>0</td>\n",
              "      <td>0</td>\n",
              "      <td>1</td>\n",
              "      <td>54</td>\n",
              "      <td>156</td>\n",
              "      <td>0</td>\n",
              "      <td>2</td>\n",
              "      <td>5.736572</td>\n",
              "      <td>4.691348</td>\n",
              "      <td>0.000000</td>\n",
              "    </tr>\n",
              "    <tr>\n",
              "      <th>151</th>\n",
              "      <td>3</td>\n",
              "      <td>3</td>\n",
              "      <td>1</td>\n",
              "      <td>0</td>\n",
              "      <td>2</td>\n",
              "      <td>1</td>\n",
              "      <td>54</td>\n",
              "      <td>152</td>\n",
              "      <td>0</td>\n",
              "      <td>1</td>\n",
              "      <td>5.613128</td>\n",
              "      <td>4.836282</td>\n",
              "      <td>0.405465</td>\n",
              "    </tr>\n",
              "    <tr>\n",
              "      <th>152</th>\n",
              "      <td>2</td>\n",
              "      <td>4</td>\n",
              "      <td>0</td>\n",
              "      <td>0</td>\n",
              "      <td>0</td>\n",
              "      <td>1</td>\n",
              "      <td>35</td>\n",
              "      <td>130</td>\n",
              "      <td>1</td>\n",
              "      <td>2</td>\n",
              "      <td>5.293305</td>\n",
              "      <td>4.795791</td>\n",
              "      <td>0.955511</td>\n",
              "    </tr>\n",
              "    <tr>\n",
              "      <th>153</th>\n",
              "      <td>1</td>\n",
              "      <td>4</td>\n",
              "      <td>1</td>\n",
              "      <td>0</td>\n",
              "      <td>2</td>\n",
              "      <td>1</td>\n",
              "      <td>44</td>\n",
              "      <td>153</td>\n",
              "      <td>0</td>\n",
              "      <td>1</td>\n",
              "      <td>5.673323</td>\n",
              "      <td>4.727388</td>\n",
              "      <td>0.000000</td>\n",
              "    </tr>\n",
              "    <tr>\n",
              "      <th>154</th>\n",
              "      <td>2</td>\n",
              "      <td>3</td>\n",
              "      <td>1</td>\n",
              "      <td>0</td>\n",
              "      <td>0</td>\n",
              "      <td>0</td>\n",
              "      <td>62</td>\n",
              "      <td>97</td>\n",
              "      <td>0</td>\n",
              "      <td>2</td>\n",
              "      <td>5.575949</td>\n",
              "      <td>4.875197</td>\n",
              "      <td>0.788457</td>\n",
              "    </tr>\n",
              "    <tr>\n",
              "      <th>155</th>\n",
              "      <td>1</td>\n",
              "      <td>1</td>\n",
              "      <td>0</td>\n",
              "      <td>0</td>\n",
              "      <td>2</td>\n",
              "      <td>1</td>\n",
              "      <td>59</td>\n",
              "      <td>125</td>\n",
              "      <td>0</td>\n",
              "      <td>1</td>\n",
              "      <td>5.613128</td>\n",
              "      <td>5.081404</td>\n",
              "      <td>0.000000</td>\n",
              "    </tr>\n",
              "    <tr>\n",
              "      <th>156</th>\n",
              "      <td>1</td>\n",
              "      <td>1</td>\n",
              "      <td>2</td>\n",
              "      <td>0</td>\n",
              "      <td>0</td>\n",
              "      <td>0</td>\n",
              "      <td>69</td>\n",
              "      <td>151</td>\n",
              "      <td>0</td>\n",
              "      <td>1</td>\n",
              "      <td>5.480639</td>\n",
              "      <td>4.948760</td>\n",
              "      <td>1.029619</td>\n",
              "    </tr>\n",
              "    <tr>\n",
              "      <th>157</th>\n",
              "      <td>1</td>\n",
              "      <td>3</td>\n",
              "      <td>0</td>\n",
              "      <td>0</td>\n",
              "      <td>0</td>\n",
              "      <td>0</td>\n",
              "      <td>48</td>\n",
              "      <td>139</td>\n",
              "      <td>0</td>\n",
              "      <td>1</td>\n",
              "      <td>5.620401</td>\n",
              "      <td>4.875197</td>\n",
              "      <td>0.182322</td>\n",
              "    </tr>\n",
              "    <tr>\n",
              "      <th>158</th>\n",
              "      <td>1</td>\n",
              "      <td>3</td>\n",
              "      <td>0</td>\n",
              "      <td>0</td>\n",
              "      <td>0</td>\n",
              "      <td>1</td>\n",
              "      <td>44</td>\n",
              "      <td>169</td>\n",
              "      <td>0</td>\n",
              "      <td>1</td>\n",
              "      <td>5.424950</td>\n",
              "      <td>4.795791</td>\n",
              "      <td>0.000000</td>\n",
              "    </tr>\n",
              "    <tr>\n",
              "      <th>159</th>\n",
              "      <td>2</td>\n",
              "      <td>4</td>\n",
              "      <td>2</td>\n",
              "      <td>0</td>\n",
              "      <td>2</td>\n",
              "      <td>1</td>\n",
              "      <td>60</td>\n",
              "      <td>132</td>\n",
              "      <td>1</td>\n",
              "      <td>2</td>\n",
              "      <td>5.332719</td>\n",
              "      <td>4.875197</td>\n",
              "      <td>1.223775</td>\n",
              "    </tr>\n",
              "    <tr>\n",
              "      <th>160</th>\n",
              "      <td>1</td>\n",
              "      <td>2</td>\n",
              "      <td>0</td>\n",
              "      <td>0</td>\n",
              "      <td>0</td>\n",
              "      <td>1</td>\n",
              "      <td>49</td>\n",
              "      <td>171</td>\n",
              "      <td>0</td>\n",
              "      <td>1</td>\n",
              "      <td>5.587249</td>\n",
              "      <td>4.875197</td>\n",
              "      <td>0.470004</td>\n",
              "    </tr>\n",
              "    <tr>\n",
              "      <th>161</th>\n",
              "      <td>1</td>\n",
              "      <td>4</td>\n",
              "      <td>2</td>\n",
              "      <td>1</td>\n",
              "      <td>0</td>\n",
              "      <td>1</td>\n",
              "      <td>60</td>\n",
              "      <td>160</td>\n",
              "      <td>1</td>\n",
              "      <td>2</td>\n",
              "      <td>5.442418</td>\n",
              "      <td>4.770685</td>\n",
              "      <td>0.875469</td>\n",
              "    </tr>\n",
              "    <tr>\n",
              "      <th>162</th>\n",
              "      <td>3</td>\n",
              "      <td>4</td>\n",
              "      <td>3</td>\n",
              "      <td>0</td>\n",
              "      <td>2</td>\n",
              "      <td>0</td>\n",
              "      <td>62</td>\n",
              "      <td>145</td>\n",
              "      <td>0</td>\n",
              "      <td>2</td>\n",
              "      <td>5.105945</td>\n",
              "      <td>5.081404</td>\n",
              "      <td>1.974081</td>\n",
              "    </tr>\n",
              "    <tr>\n",
              "      <th>163</th>\n",
              "      <td>2</td>\n",
              "      <td>4</td>\n",
              "      <td>3</td>\n",
              "      <td>0</td>\n",
              "      <td>2</td>\n",
              "      <td>1</td>\n",
              "      <td>45</td>\n",
              "      <td>147</td>\n",
              "      <td>1</td>\n",
              "      <td>2</td>\n",
              "      <td>5.736572</td>\n",
              "      <td>4.962845</td>\n",
              "      <td>0.000000</td>\n",
              "    </tr>\n",
              "    <tr>\n",
              "      <th>164</th>\n",
              "      <td>1</td>\n",
              "      <td>4</td>\n",
              "      <td>0</td>\n",
              "      <td>0</td>\n",
              "      <td>2</td>\n",
              "      <td>1</td>\n",
              "      <td>53</td>\n",
              "      <td>111</td>\n",
              "      <td>1</td>\n",
              "      <td>2</td>\n",
              "      <td>5.424950</td>\n",
              "      <td>4.962845</td>\n",
              "      <td>0.000000</td>\n",
              "    </tr>\n",
              "    <tr>\n",
              "      <th>165</th>\n",
              "      <td>1</td>\n",
              "      <td>3</td>\n",
              "      <td>1</td>\n",
              "      <td>0</td>\n",
              "      <td>0</td>\n",
              "      <td>0</td>\n",
              "      <td>67</td>\n",
              "      <td>172</td>\n",
              "      <td>0</td>\n",
              "      <td>1</td>\n",
              "      <td>5.627621</td>\n",
              "      <td>5.030438</td>\n",
              "      <td>0.000000</td>\n",
              "    </tr>\n",
              "    <tr>\n",
              "      <th>166</th>\n",
              "      <td>1</td>\n",
              "      <td>4</td>\n",
              "      <td>0</td>\n",
              "      <td>0</td>\n",
              "      <td>0</td>\n",
              "      <td>1</td>\n",
              "      <td>57</td>\n",
              "      <td>168</td>\n",
              "      <td>1</td>\n",
              "      <td>2</td>\n",
              "      <td>5.337538</td>\n",
              "      <td>4.890349</td>\n",
              "      <td>0.000000</td>\n",
              "    </tr>\n",
              "    <tr>\n",
              "      <th>167</th>\n",
              "      <td>1</td>\n",
              "      <td>4</td>\n",
              "      <td>0</td>\n",
              "      <td>0</td>\n",
              "      <td>2</td>\n",
              "      <td>1</td>\n",
              "      <td>46</td>\n",
              "      <td>144</td>\n",
              "      <td>0</td>\n",
              "      <td>2</td>\n",
              "      <td>5.521461</td>\n",
              "      <td>4.795791</td>\n",
              "      <td>0.587787</td>\n",
              "    </tr>\n",
              "    <tr>\n",
              "      <th>168</th>\n",
              "      <td>3</td>\n",
              "      <td>1</td>\n",
              "      <td>0</td>\n",
              "      <td>1</td>\n",
              "      <td>2</td>\n",
              "      <td>1</td>\n",
              "      <td>63</td>\n",
              "      <td>150</td>\n",
              "      <td>0</td>\n",
              "      <td>0</td>\n",
              "      <td>5.455321</td>\n",
              "      <td>4.983607</td>\n",
              "      <td>1.193922</td>\n",
              "    </tr>\n",
              "    <tr>\n",
              "      <th>169</th>\n",
              "      <td>2</td>\n",
              "      <td>1</td>\n",
              "      <td>0</td>\n",
              "      <td>0</td>\n",
              "      <td>2</td>\n",
              "      <td>1</td>\n",
              "      <td>64</td>\n",
              "      <td>144</td>\n",
              "      <td>1</td>\n",
              "      <td>1</td>\n",
              "      <td>5.356586</td>\n",
              "      <td>4.709530</td>\n",
              "      <td>1.029619</td>\n",
              "    </tr>\n",
              "    <tr>\n",
              "      <th>170</th>\n",
              "      <td>1</td>\n",
              "      <td>4</td>\n",
              "      <td>0</td>\n",
              "      <td>0</td>\n",
              "      <td>2</td>\n",
              "      <td>1</td>\n",
              "      <td>58</td>\n",
              "      <td>111</td>\n",
              "      <td>1</td>\n",
              "      <td>2</td>\n",
              "      <td>5.602119</td>\n",
              "      <td>5.017280</td>\n",
              "      <td>0.587787</td>\n",
              "    </tr>\n",
              "    <tr>\n",
              "      <th>171</th>\n",
              "      <td>1</td>\n",
              "      <td>4</td>\n",
              "      <td>1</td>\n",
              "      <td>0</td>\n",
              "      <td>2</td>\n",
              "      <td>1</td>\n",
              "      <td>66</td>\n",
              "      <td>132</td>\n",
              "      <td>1</td>\n",
              "      <td>1</td>\n",
              "      <td>5.361292</td>\n",
              "      <td>4.727388</td>\n",
              "      <td>0.095310</td>\n",
              "    </tr>\n",
              "    <tr>\n",
              "      <th>172</th>\n",
              "      <td>2</td>\n",
              "      <td>4</td>\n",
              "      <td>0</td>\n",
              "      <td>0</td>\n",
              "      <td>0</td>\n",
              "      <td>1</td>\n",
              "      <td>39</td>\n",
              "      <td>140</td>\n",
              "      <td>0</td>\n",
              "      <td>2</td>\n",
              "      <td>5.393628</td>\n",
              "      <td>4.779123</td>\n",
              "      <td>0.788457</td>\n",
              "    </tr>\n",
              "    <tr>\n",
              "      <th>173</th>\n",
              "      <td>1</td>\n",
              "      <td>4</td>\n",
              "      <td>0</td>\n",
              "      <td>0</td>\n",
              "      <td>0</td>\n",
              "      <td>1</td>\n",
              "      <td>51</td>\n",
              "      <td>173</td>\n",
              "      <td>1</td>\n",
              "      <td>2</td>\n",
              "      <td>5.703782</td>\n",
              "      <td>4.948760</td>\n",
              "      <td>0.955511</td>\n",
              "    </tr>\n",
              "    <tr>\n",
              "      <th>174</th>\n",
              "      <td>1</td>\n",
              "      <td>4</td>\n",
              "      <td>0</td>\n",
              "      <td>0</td>\n",
              "      <td>0</td>\n",
              "      <td>1</td>\n",
              "      <td>54</td>\n",
              "      <td>160</td>\n",
              "      <td>0</td>\n",
              "      <td>1</td>\n",
              "      <td>5.480639</td>\n",
              "      <td>4.948760</td>\n",
              "      <td>0.788457</td>\n",
              "    </tr>\n",
              "    <tr>\n",
              "      <th>175</th>\n",
              "      <td>2</td>\n",
              "      <td>4</td>\n",
              "      <td>2</td>\n",
              "      <td>1</td>\n",
              "      <td>0</td>\n",
              "      <td>1</td>\n",
              "      <td>67</td>\n",
              "      <td>163</td>\n",
              "      <td>0</td>\n",
              "      <td>2</td>\n",
              "      <td>5.541264</td>\n",
              "      <td>4.836282</td>\n",
              "      <td>0.182322</td>\n",
              "    </tr>\n",
              "    <tr>\n",
              "      <th>176</th>\n",
              "      <td>2</td>\n",
              "      <td>4</td>\n",
              "      <td>0</td>\n",
              "      <td>0</td>\n",
              "      <td>1</td>\n",
              "      <td>0</td>\n",
              "      <td>55</td>\n",
              "      <td>117</td>\n",
              "      <td>1</td>\n",
              "      <td>1</td>\n",
              "      <td>5.793014</td>\n",
              "      <td>5.198497</td>\n",
              "      <td>1.481605</td>\n",
              "    </tr>\n",
              "    <tr>\n",
              "      <th>177</th>\n",
              "      <td>2</td>\n",
              "      <td>3</td>\n",
              "      <td>0</td>\n",
              "      <td>0</td>\n",
              "      <td>0</td>\n",
              "      <td>1</td>\n",
              "      <td>64</td>\n",
              "      <td>131</td>\n",
              "      <td>1</td>\n",
              "      <td>2</td>\n",
              "      <td>5.736572</td>\n",
              "      <td>4.836282</td>\n",
              "      <td>1.029619</td>\n",
              "    </tr>\n",
              "    <tr>\n",
              "      <th>178</th>\n",
              "      <td>1</td>\n",
              "      <td>3</td>\n",
              "      <td>2</td>\n",
              "      <td>1</td>\n",
              "      <td>0</td>\n",
              "      <td>1</td>\n",
              "      <td>48</td>\n",
              "      <td>175</td>\n",
              "      <td>0</td>\n",
              "      <td>1</td>\n",
              "      <td>5.545177</td>\n",
              "      <td>4.828314</td>\n",
              "      <td>0.000000</td>\n",
              "    </tr>\n",
              "    <tr>\n",
              "      <th>179</th>\n",
              "      <td>1</td>\n",
              "      <td>3</td>\n",
              "      <td>1</td>\n",
              "      <td>0</td>\n",
              "      <td>0</td>\n",
              "      <td>0</td>\n",
              "      <td>54</td>\n",
              "      <td>163</td>\n",
              "      <td>0</td>\n",
              "      <td>1</td>\n",
              "      <td>5.308268</td>\n",
              "      <td>5.081404</td>\n",
              "      <td>0.000000</td>\n",
              "    </tr>\n",
              "  </tbody>\n",
              "</table>\n",
              "<p>180 rows × 13 columns</p>\n",
              "</div>"
            ],
            "text/plain": [
              "     slope_of_peak_exercise_st_segment  ...  log_oldpeak_eq_st_depression\n",
              "0                                    1  ...                      0.000000\n",
              "1                                    2  ...                      0.955511\n",
              "2                                    1  ...                      0.000000\n",
              "3                                    1  ...                      0.000000\n",
              "4                                    3  ...                      1.648659\n",
              "5                                    1  ...                      0.000000\n",
              "6                                    2  ...                      1.280934\n",
              "7                                    2  ...                      0.470004\n",
              "8                                    3  ...                      1.481605\n",
              "9                                    2  ...                      0.955511\n",
              "10                                   2  ...                      0.336472\n",
              "11                                   1  ...                      0.000000\n",
              "12                                   1  ...                      0.000000\n",
              "13                                   2  ...                      0.182322\n",
              "14                                   2  ...                      1.568616\n",
              "15                                   2  ...                      0.641854\n",
              "16                                   2  ...                      0.470004\n",
              "17                                   1  ...                      0.875469\n",
              "18                                   1  ...                      0.000000\n",
              "19                                   1  ...                      0.000000\n",
              "20                                   1  ...                      0.336472\n",
              "21                                   1  ...                      0.095310\n",
              "22                                   1  ...                      0.262364\n",
              "23                                   1  ...                      1.193922\n",
              "24                                   1  ...                      0.000000\n",
              "25                                   2  ...                      0.916291\n",
              "26                                   1  ...                      0.000000\n",
              "27                                   1  ...                      0.000000\n",
              "28                                   2  ...                      1.386294\n",
              "29                                   1  ...                      0.470004\n",
              "..                                 ...  ...                           ...\n",
              "150                                  1  ...                      0.000000\n",
              "151                                  3  ...                      0.405465\n",
              "152                                  2  ...                      0.955511\n",
              "153                                  1  ...                      0.000000\n",
              "154                                  2  ...                      0.788457\n",
              "155                                  1  ...                      0.000000\n",
              "156                                  1  ...                      1.029619\n",
              "157                                  1  ...                      0.182322\n",
              "158                                  1  ...                      0.000000\n",
              "159                                  2  ...                      1.223775\n",
              "160                                  1  ...                      0.470004\n",
              "161                                  1  ...                      0.875469\n",
              "162                                  3  ...                      1.974081\n",
              "163                                  2  ...                      0.000000\n",
              "164                                  1  ...                      0.000000\n",
              "165                                  1  ...                      0.000000\n",
              "166                                  1  ...                      0.000000\n",
              "167                                  1  ...                      0.587787\n",
              "168                                  3  ...                      1.193922\n",
              "169                                  2  ...                      1.029619\n",
              "170                                  1  ...                      0.587787\n",
              "171                                  1  ...                      0.095310\n",
              "172                                  2  ...                      0.788457\n",
              "173                                  1  ...                      0.955511\n",
              "174                                  1  ...                      0.788457\n",
              "175                                  2  ...                      0.182322\n",
              "176                                  2  ...                      1.481605\n",
              "177                                  2  ...                      1.029619\n",
              "178                                  1  ...                      0.000000\n",
              "179                                  1  ...                      0.000000\n",
              "\n",
              "[180 rows x 13 columns]"
            ]
          },
          "metadata": {
            "tags": []
          },
          "execution_count": 21
        }
      ]
    },
    {
      "cell_type": "code",
      "metadata": {
        "id": "RMbmzK1ErCu3",
        "colab_type": "code",
        "outputId": "1b7299af-caf6-459b-84da-161835853c9e",
        "colab": {
          "base_uri": "https://localhost:8080/",
          "height": 286
        }
      },
      "source": [
        "plt.figure()\n",
        "train_data['log_oldpeak_eq_st_depression'].plot(kind='hist')\n",
        "\n",
        "# serum_cholesterol_mg_per_dl\n",
        "# resting_blood_pressure\n",
        "# oldpeak_eq_st_depression"
      ],
      "execution_count": 22,
      "outputs": [
        {
          "output_type": "execute_result",
          "data": {
            "text/plain": [
              "<matplotlib.axes._subplots.AxesSubplot at 0x7f18634a6400>"
            ]
          },
          "metadata": {
            "tags": []
          },
          "execution_count": 22
        },
        {
          "output_type": "display_data",
          "data": {
            "image/png": "[encoded data removed]",
            "text/plain": [
              "<Figure size 432x288 with 1 Axes>"
            ]
          },
          "metadata": {
            "tags": []
          }
        }
      ]
    },
    {
      "cell_type": "code",
      "metadata": {
        "id": "KMf6pFRav5Mv",
        "colab_type": "code",
        "colab": {}
      },
      "source": [
        "x = train_data.values #returns a numpy array\n",
        "min_max_scaler = preprocessing.MinMaxScaler()\n",
        "x_scaled = min_max_scaler.fit_transform(x)\n",
        "train_data_scaled = pd.DataFrame(x_scaled, index=train_data.index)"
      ],
      "execution_count": 0,
      "outputs": []
    },
    {
      "cell_type": "code",
      "metadata": {
        "id": "2JqwwefCrWx1",
        "colab_type": "code",
        "outputId": "122ead84-810f-4b94-dfc5-5ff92bbe682f",
        "colab": {
          "base_uri": "https://localhost:8080/",
          "height": 159
        }
      },
      "source": [
        "from scipy import stats\n",
        "import numpy as np\n",
        "z = np.abs(stats.zscore(train_data_scaled))\n",
        "print(z)"
      ],
      "execution_count": 11,
      "outputs": [
        {
          "output_type": "stream",
          "text": [
            "[[0.89124111 0.19519463 1.23477477 ... 0.93248505 0.68074565 0.64705882]\n",
            " [0.72919727 1.25631978 0.16621968 ... 0.38708356 0.68074565 0.64705882]\n",
            " [0.89124111 0.37204882 0.90233541 ... 0.56888406 1.46897745 0.64705882]\n",
            " ...\n",
            " [0.72919727 0.37204882 0.16621968 ... 0.8400698  1.46897745 1.11764706]\n",
            " [0.89124111 0.43100022 0.16621968 ... 1.15973567 0.68074565 0.64705882]\n",
            " [0.89124111 1.69125009 0.16621968 ... 0.61433418 0.68074565 0.64705882]]\n"
          ],
          "name": "stdout"
        }
      ]
    },
    {
      "cell_type": "code",
      "metadata": {
        "id": "WsPsazT6tOy8",
        "colab_type": "code",
        "outputId": "7a13c2c2-1820-45bc-bddd-a9ea6210c23b",
        "colab": {
          "base_uri": "https://localhost:8080/",
          "height": 34
        }
      },
      "source": [
        "wh = (np.where(z>3))\n",
        "w = list(set(wh[0]))\n",
        "print(w)\n",
        "for i in range(len(w)):\n",
        "  train_data_scaled=train_data_scaled.drop(train_data_scaled.index[w[i]])\n",
        "  train_labels=train_labels.drop(train_labels.index[w[i]])"
      ],
      "execution_count": 12,
      "outputs": [
        {
          "output_type": "stream",
          "text": [
            "[140, 162, 43, 60]\n"
          ],
          "name": "stdout"
        }
      ]
    },
    {
      "cell_type": "code",
      "metadata": {
        "id": "u2S7jR8XzImV",
        "colab_type": "code",
        "colab": {
          "base_uri": "https://localhost:8080/",
          "height": 208
        },
        "outputId": "ba0bbc39-33d2-4630-be75-53aaadf73497"
      },
      "source": [
        "bestfeatures = SelectKBest(score_func=chi2, k=10)\n",
        "fit = bestfeatures.fit(train_data_scaled, train_labels)\n",
        "dfscores = pd.DataFrame(fit.scores_)\n",
        "dfcolumns = pd.DataFrame(train_data_scaled.columns)\n",
        "#concat two dataframes for better visualization \n",
        "featureScores = pd.concat([dfcolumns,dfscores],axis=1)\n",
        "featureScores.columns = ['Specs','Score']  #naming the dataframe columns\n",
        "print(featureScores.nlargest(10,'Score'))"
      ],
      "execution_count": 13,
      "outputs": [
        {
          "output_type": "stream",
          "text": [
            "    Specs      Score\n",
            "11     11  22.717225\n",
            "3       3  14.558092\n",
            "0       0   6.503008\n",
            "8       8   6.183190\n",
            "7       7   4.899742\n",
            "2       2   3.927428\n",
            "12     12   3.906788\n",
            "5       5   2.171815\n",
            "10     10   2.033283\n",
            "9       9   0.300947\n"
          ],
          "name": "stdout"
        }
      ]
    },
    {
      "cell_type": "code",
      "metadata": {
        "id": "0Z3TLkvMve8l",
        "colab_type": "code",
        "colab": {}
      },
      "source": [
        "# X_train, X_test, y_train, y_test = train_test_split(train_data[['max_heart_rate_achieved', 'num_major_vessels', 'oldpeak_eq_st_depression', 'exercise_induced_angina', 'serum_cholesterol_mg_per_dl']], train_labels, test_size=0.2)\n",
        "X_train, X_test, y_train, y_test = train_test_split(train_data_scaled, train_labels, test_size=0.2, random_state=42)"
      ],
      "execution_count": 0,
      "outputs": []
    },
    {
      "cell_type": "code",
      "metadata": {
        "id": "OcBG2aVLgB-p",
        "colab_type": "code",
        "colab": {}
      },
      "source": [
        "clftree = tree.DecisionTreeClassifier()\n",
        "clftree = clftree.fit(X_train, y_train)"
      ],
      "execution_count": 0,
      "outputs": []
    },
    {
      "cell_type": "code",
      "metadata": {
        "id": "eYbEpW_ShrH_",
        "colab_type": "code",
        "outputId": "5197887d-e0ac-4345-e404-3d4b68f4e608",
        "colab": {
          "base_uri": "https://localhost:8080/",
          "height": 34
        }
      },
      "source": [
        "clftree.score(X_test, y_test)"
      ],
      "execution_count": 40,
      "outputs": [
        {
          "output_type": "execute_result",
          "data": {
            "text/plain": [
              "0.6666666666666666"
            ]
          },
          "metadata": {
            "tags": []
          },
          "execution_count": 40
        }
      ]
    },
    {
      "cell_type": "code",
      "metadata": {
        "id": "jY-onNhpxqa1",
        "colab_type": "code",
        "outputId": "52260eec-3a49-4427-d03a-babe4f887ee0",
        "colab": {
          "base_uri": "https://localhost:8080/",
          "height": 89
        }
      },
      "source": [
        "clfnb = GaussianNB()\n",
        "clfnb.fit(X_train, y_train)"
      ],
      "execution_count": 41,
      "outputs": [
        {
          "output_type": "stream",
          "text": [
            "/usr/local/lib/python3.6/dist-packages/sklearn/utils/validation.py:724: DataConversionWarning: A column-vector y was passed when a 1d array was expected. Please change the shape of y to (n_samples, ), for example using ravel().\n",
            "  y = column_or_1d(y, warn=True)\n"
          ],
          "name": "stderr"
        },
        {
          "output_type": "execute_result",
          "data": {
            "text/plain": [
              "GaussianNB(priors=None, var_smoothing=1e-09)"
            ]
          },
          "metadata": {
            "tags": []
          },
          "execution_count": 41
        }
      ]
    },
    {
      "cell_type": "code",
      "metadata": {
        "id": "8Qh5i9-rL3ac",
        "colab_type": "code",
        "outputId": "164755d3-c4f2-467f-e17b-4734451096a6",
        "colab": {
          "base_uri": "https://localhost:8080/",
          "height": 34
        }
      },
      "source": [
        "clfnb.score(X_test, y_test)"
      ],
      "execution_count": 42,
      "outputs": [
        {
          "output_type": "execute_result",
          "data": {
            "text/plain": [
              "0.8055555555555556"
            ]
          },
          "metadata": {
            "tags": []
          },
          "execution_count": 42
        }
      ]
    },
    {
      "cell_type": "code",
      "metadata": {
        "id": "C0VnPlccMAjT",
        "colab_type": "code",
        "colab": {
          "base_uri": "https://localhost:8080/",
          "height": 263
        },
        "outputId": "7ed39135-9930-4977-9eda-56891fdd03bd"
      },
      "source": [
        "clfnn = Sequential()\n",
        "clfnn.add(Dense(8, activation='relu', kernel_initializer='random_normal', input_dim=13))\n",
        "clfnn.add(Dense(8, activation='relu', kernel_initializer='random_normal'))\n",
        "clfnn.add(Dense(8, activation='relu', kernel_initializer='random_normal'))\n",
        "clfnn.add(Dense(1, activation='sigmoid', kernel_initializer='random_normal'))\n",
        "clfnn.compile(optimizer ='adam',loss='binary_crossentropy', metrics =['accuracy'])\n",
        "# clfnn.fit(X_train, y_train, batch_size=10, epochs=100)\n",
        "# clfnn.evaluate(X_test, y_test)"
      ],
      "execution_count": 13,
      "outputs": [
        {
          "output_type": "stream",
          "text": [
            "WARNING:tensorflow:From /usr/local/lib/python3.6/dist-packages/keras/backend/tensorflow_backend.py:66: The name tf.get_default_graph is deprecated. Please use tf.compat.v1.get_default_graph instead.\n",
            "\n",
            "WARNING:tensorflow:From /usr/local/lib/python3.6/dist-packages/keras/backend/tensorflow_backend.py:541: The name tf.placeholder is deprecated. Please use tf.compat.v1.placeholder instead.\n",
            "\n",
            "WARNING:tensorflow:From /usr/local/lib/python3.6/dist-packages/keras/backend/tensorflow_backend.py:4409: The name tf.random_normal is deprecated. Please use tf.random.normal instead.\n",
            "\n",
            "WARNING:tensorflow:From /usr/local/lib/python3.6/dist-packages/keras/optimizers.py:793: The name tf.train.Optimizer is deprecated. Please use tf.compat.v1.train.Optimizer instead.\n",
            "\n",
            "WARNING:tensorflow:From /usr/local/lib/python3.6/dist-packages/keras/backend/tensorflow_backend.py:3657: The name tf.log is deprecated. Please use tf.math.log instead.\n",
            "\n",
            "WARNING:tensorflow:From /usr/local/lib/python3.6/dist-packages/tensorflow/python/ops/nn_impl.py:180: add_dispatch_support.<locals>.wrapper (from tensorflow.python.ops.array_ops) is deprecated and will be removed in a future version.\n",
            "Instructions for updating:\n",
            "Use tf.where in 2.0, which has the same broadcast rule as np.where\n"
          ],
          "name": "stdout"
        }
      ]
    },
    {
      "cell_type": "code",
      "metadata": {
        "id": "cvw9vnoUTUjf",
        "colab_type": "code",
        "outputId": "216f61b3-a16b-402b-c58a-9f9f7f362f30",
        "colab": {
          "base_uri": "https://localhost:8080/",
          "height": 89
        }
      },
      "source": [
        "clflog = LogisticRegression(random_state=42, solver='sag')\n",
        "clflog.fit(X_train, y_train)\n",
        "clflog.score(X_test, y_test)"
      ],
      "execution_count": 45,
      "outputs": [
        {
          "output_type": "stream",
          "text": [
            "/usr/local/lib/python3.6/dist-packages/sklearn/utils/validation.py:724: DataConversionWarning: A column-vector y was passed when a 1d array was expected. Please change the shape of y to (n_samples, ), for example using ravel().\n",
            "  y = column_or_1d(y, warn=True)\n"
          ],
          "name": "stderr"
        },
        {
          "output_type": "execute_result",
          "data": {
            "text/plain": [
              "0.8055555555555556"
            ]
          },
          "metadata": {
            "tags": []
          },
          "execution_count": 45
        }
      ]
    },
    {
      "cell_type": "code",
      "metadata": {
        "id": "cy-rFtmjXcvn",
        "colab_type": "code",
        "outputId": "d53d19a1-86d2-4b8a-879a-0508572cb70a",
        "colab": {
          "base_uri": "https://localhost:8080/",
          "height": 384
        }
      },
      "source": [
        "scoressvr = []\n",
        "# best_svr = RandomForestClassifier(n_estimators=100, max_depth=2, random_state=0)\n",
        "\n",
        "cv = KFold(n_splits=10, random_state=42, shuffle=True)\n",
        "for train_index, test_index in cv.split(train_data_scaled):\n",
        "  \n",
        "  clflog = LogisticRegression(random_state=42, solver='sag')\n",
        "  \n",
        "  X_tr, X_te, y_tr, y_te = train_data_scaled.iloc[train_index], train_data_scaled.iloc[test_index], train_labels.iloc[train_index], train_labels.iloc[test_index]\n",
        "  clflog.fit(X_tr, y_tr)\n",
        "  scoressvr.append(clflog.score(X_te, y_te))"
      ],
      "execution_count": 23,
      "outputs": [
        {
          "output_type": "stream",
          "text": [
            "/usr/local/lib/python3.6/dist-packages/sklearn/utils/validation.py:724: DataConversionWarning: A column-vector y was passed when a 1d array was expected. Please change the shape of y to (n_samples, ), for example using ravel().\n",
            "  y = column_or_1d(y, warn=True)\n",
            "/usr/local/lib/python3.6/dist-packages/sklearn/utils/validation.py:724: DataConversionWarning: A column-vector y was passed when a 1d array was expected. Please change the shape of y to (n_samples, ), for example using ravel().\n",
            "  y = column_or_1d(y, warn=True)\n",
            "/usr/local/lib/python3.6/dist-packages/sklearn/utils/validation.py:724: DataConversionWarning: A column-vector y was passed when a 1d array was expected. Please change the shape of y to (n_samples, ), for example using ravel().\n",
            "  y = column_or_1d(y, warn=True)\n",
            "/usr/local/lib/python3.6/dist-packages/sklearn/utils/validation.py:724: DataConversionWarning: A column-vector y was passed when a 1d array was expected. Please change the shape of y to (n_samples, ), for example using ravel().\n",
            "  y = column_or_1d(y, warn=True)\n",
            "/usr/local/lib/python3.6/dist-packages/sklearn/utils/validation.py:724: DataConversionWarning: A column-vector y was passed when a 1d array was expected. Please change the shape of y to (n_samples, ), for example using ravel().\n",
            "  y = column_or_1d(y, warn=True)\n",
            "/usr/local/lib/python3.6/dist-packages/sklearn/utils/validation.py:724: DataConversionWarning: A column-vector y was passed when a 1d array was expected. Please change the shape of y to (n_samples, ), for example using ravel().\n",
            "  y = column_or_1d(y, warn=True)\n",
            "/usr/local/lib/python3.6/dist-packages/sklearn/utils/validation.py:724: DataConversionWarning: A column-vector y was passed when a 1d array was expected. Please change the shape of y to (n_samples, ), for example using ravel().\n",
            "  y = column_or_1d(y, warn=True)\n",
            "/usr/local/lib/python3.6/dist-packages/sklearn/utils/validation.py:724: DataConversionWarning: A column-vector y was passed when a 1d array was expected. Please change the shape of y to (n_samples, ), for example using ravel().\n",
            "  y = column_or_1d(y, warn=True)\n",
            "/usr/local/lib/python3.6/dist-packages/sklearn/utils/validation.py:724: DataConversionWarning: A column-vector y was passed when a 1d array was expected. Please change the shape of y to (n_samples, ), for example using ravel().\n",
            "  y = column_or_1d(y, warn=True)\n",
            "/usr/local/lib/python3.6/dist-packages/sklearn/utils/validation.py:724: DataConversionWarning: A column-vector y was passed when a 1d array was expected. Please change the shape of y to (n_samples, ), for example using ravel().\n",
            "  y = column_or_1d(y, warn=True)\n"
          ],
          "name": "stderr"
        }
      ]
    },
    {
      "cell_type": "code",
      "metadata": {
        "id": "DkFUo8uMl6Qv",
        "colab_type": "code",
        "outputId": "dddf9e09-8dcc-49c6-cf80-f0b453a3c1bb",
        "colab": {
          "base_uri": "https://localhost:8080/",
          "height": 34
        }
      },
      "source": [
        "np.mean(scoressvr)\n"
      ],
      "execution_count": 25,
      "outputs": [
        {
          "output_type": "execute_result",
          "data": {
            "text/plain": [
              "0.8009803921568629"
            ]
          },
          "metadata": {
            "tags": []
          },
          "execution_count": 25
        }
      ]
    },
    {
      "cell_type": "code",
      "metadata": {
        "id": "wc2JOL2usVmy",
        "colab_type": "code",
        "colab": {
          "base_uri": "https://localhost:8080/",
          "height": 89
        },
        "outputId": "0b5a54a8-4c4a-47b5-cf7c-43597582d757"
      },
      "source": [
        "clflog = LogisticRegression(random_state=42, solver='sag')\n",
        "clflog.fit(train_data_scaled, train_labels)\n",
        "clflog.score(train_data_scaled, train_labels)\n"
      ],
      "execution_count": 27,
      "outputs": [
        {
          "output_type": "stream",
          "text": [
            "/usr/local/lib/python3.6/dist-packages/sklearn/utils/validation.py:724: DataConversionWarning: A column-vector y was passed when a 1d array was expected. Please change the shape of y to (n_samples, ), for example using ravel().\n",
            "  y = column_or_1d(y, warn=True)\n"
          ],
          "name": "stderr"
        },
        {
          "output_type": "execute_result",
          "data": {
            "text/plain": [
              "0.8465909090909091"
            ]
          },
          "metadata": {
            "tags": []
          },
          "execution_count": 27
        }
      ]
    },
    {
      "cell_type": "code",
      "metadata": {
        "id": "2UDz8u25VBNh",
        "colab_type": "code",
        "colab": {}
      },
      "source": [
        "index = test_data['patient_id']\n",
        "test_data = test_data.drop(columns=['patient_id'])\n",
        "test_data['thal'] = test_data['thal'].astype('category')\n",
        "test_data['thal_cat'] = test_data['thal'].cat.codes\n",
        "test_data = test_data.drop(columns=['thal'])\n",
        "# test_data['log_oldpeak_eq_st_depression'] = np.log(1 + test_data.oldpeak_eq_st_depression)\n",
        "# test_data['log_resting_blood_pressure'] = np.log(1 + test_data.resting_blood_pressure)\n",
        "# test_data['log_serum_cholesterol_mg_per_dl'] = np.log(1 + test_data.serum_cholesterol_mg_per_dl)\n",
        "# test_data = test_data.drop(columns=['oldpeak_eq_st_depression'])\n",
        "# test_data = test_data.drop(columns=['resting_blood_pressure'])\n",
        "# test_data = test_data.drop(columns=['serum_cholesterol_mg_per_dl'])"
      ],
      "execution_count": 0,
      "outputs": []
    },
    {
      "cell_type": "code",
      "metadata": {
        "id": "mGxUFtpB-taa",
        "colab_type": "code",
        "colab": {}
      },
      "source": [
        "x = test_data.values #returns a numpy array\n",
        "min_max_scaler = preprocessing.MinMaxScaler()\n",
        "x_scaled = min_max_scaler.fit_transform(x)\n",
        "test_data_scaled = pd.DataFrame(x_scaled, index=test_data.index)"
      ],
      "execution_count": 0,
      "outputs": []
    },
    {
      "cell_type": "code",
      "metadata": {
        "id": "53VFIUHnStU0",
        "colab_type": "code",
        "colab": {}
      },
      "source": [
        "import csv\n",
        "\n",
        "with open('/content/drive/My Drive/DS/heart_disease/submission.csv', mode='w') as csv_file:\n",
        "    fieldnames = ['patient_id', 'heart_disease_present']\n",
        "    writer = csv.DictWriter(csv_file, fieldnames=fieldnames)\n",
        "    writer.writeheader()\n",
        "    \n",
        "    probs = clflog.predict_proba(test_data_scaled)\n",
        "    for ind in index.iteritems():\n",
        "#       writer.writerow({'patient_id': ind[1], 'heart_disease_present': probs[ind[0]][0]})\n",
        "      writer.writerow({'patient_id': ind[1], 'heart_disease_present': 1-probs[ind[0]][0] if (probs[ind[0]][0]>probs[ind[0]][1]) else probs[ind[0]][1]})"
      ],
      "execution_count": 0,
      "outputs": []
    },
    {
      "cell_type": "code",
      "metadata": {
        "id": "E4iVlY4KotHj",
        "colab_type": "code",
        "colab": {}
      },
      "source": [
        "seed = 42\n",
        "max_tree = []\n",
        "kfold = KFold(n_splits=10, random_state=seed)\n",
        "for num_trees in range(10, 50+1):\n",
        "  modelada = AdaBoostClassifier(n_estimators=num_trees, random_state=seed)\n",
        "  modelada.fit(X_train, y_train)\n",
        "  max_tree.append(modelada.score(X_test, y_test))"
      ],
      "execution_count": 0,
      "outputs": []
    },
    {
      "cell_type": "code",
      "metadata": {
        "id": "uQGykOWgsgu0",
        "colab_type": "code",
        "colab": {}
      },
      "source": [
        "m = max(max_tree)\n",
        "max_tree.index(m)"
      ],
      "execution_count": 0,
      "outputs": []
    },
    {
      "cell_type": "code",
      "metadata": {
        "id": "Db6bKq79stiT",
        "colab_type": "code",
        "colab": {}
      },
      "source": [
        "modelada = AdaBoostClassifier(n_estimators=10, random_state=seed)\n",
        "modelada.fit(X_train, y_train)\n",
        "modelada.score(X_test, y_test)"
      ],
      "execution_count": 0,
      "outputs": []
    },
    {
      "cell_type": "code",
      "metadata": {
        "id": "-sibipinYK8R",
        "colab_type": "code",
        "colab": {}
      },
      "source": [
        "clfrf = RandomForestClassifier(n_estimators=100, max_depth=2, random_state=0)\n",
        "clfrf.fit(X_train, y_train)\n",
        "clfrf.score(X_test, y_test)"
      ],
      "execution_count": 0,
      "outputs": []
    },
    {
      "cell_type": "code",
      "metadata": {
        "id": "8DUdeFg-ZAn7",
        "colab_type": "code",
        "colab": {}
      },
      "source": [
        "estimators = []\n",
        "model1 = tree.DecisionTreeClassifier()\n",
        "estimators.append(('tree', model1))\n",
        "model2 = GaussianNB()\n",
        "estimators.append(('nb', model2))\n",
        "model3 = LogisticRegression(random_state=42, solver='sag')\n",
        "estimators.append(('logistic', model3))\n",
        "ensemble = VotingClassifier(estimators)\n",
        "ensemble.fit(X_train, y_train)\n",
        "ensemble.score(X_test, y_test)"
      ],
      "execution_count": 0,
      "outputs": []
    },
    {
      "cell_type": "code",
      "metadata": {
        "id": "IkEp_Bcq1EWP",
        "colab_type": "code",
        "colab": {}
      },
      "source": [
        "pca = PCA(n_components=2)\n",
        "principalComponents = pca.fit_transform(train_data_scaled)\n",
        "principalDf = pd.DataFrame(data = principalComponents\n",
        "             , columns = ['principal component 1', 'principal component 2'])"
      ],
      "execution_count": 0,
      "outputs": []
    },
    {
      "cell_type": "code",
      "metadata": {
        "id": "zh04vtUKLLsP",
        "colab_type": "code",
        "colab": {}
      },
      "source": [
        ""
      ],
      "execution_count": 0,
      "outputs": []
    }
  ]
}